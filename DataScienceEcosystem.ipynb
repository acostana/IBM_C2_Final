{
 "cells": [
  {
   "cell_type": "markdown",
   "id": "3340be67-3440-48fa-87ea-ceb140f27a9b",
   "metadata": {},
   "source": [
    "# Data Science Tools and Ecosystem\n"
   ]
  },
  {
   "cell_type": "markdown",
   "id": "6ba5cfdb-726b-4059-be63-16b095bfce0c",
   "metadata": {},
   "source": [
    "### In this notebook, Data Science Tools and Ecosystem are summarized|\n"
   ]
  },
  {
   "cell_type": "markdown",
   "id": "57262b35-5b31-457a-a020-18d041b7b54c",
   "metadata": {
    "jp-MarkdownHeadingCollapsed": true
   },
   "source": [
    "Some of the popular languages Data Scientists use are:\n",
    "1. Python\n",
    "2. R\n",
    "3. SQL"
   ]
  },
  {
   "cell_type": "markdown",
   "id": "07d018f2-b42a-44d8-b508-066b420c3118",
   "metadata": {},
   "source": [
    "Some commonly used Python libraries in Data Science are:\n",
    "1. Pandas \n",
    "2. Numpy \n",
    "3. Matplotlib "
   ]
  },
  {
   "cell_type": "markdown",
   "id": "143f66f9-54a7-45d0-b7c7-2df20f86f3d8",
   "metadata": {},
   "source": [
    "| Data Science Tools |\n",
    "|------------------|\n",
    "|Jupyter|\n",
    "|R Studio|\n",
    "|VSCode|\n",
    " "
   ]
  },
  {
   "cell_type": "markdown",
   "id": "22230449-065f-4edb-b757-10385b01e2ce",
   "metadata": {},
   "source": [
    "### Below are a few examples of evaluating arithmetic expressions in Python."
   ]
  },
  {
   "cell_type": "code",
   "execution_count": 17,
   "id": "0b5cabff-ac04-478b-a593-b9df6fd36790",
   "metadata": {},
   "outputs": [
    {
     "data": {
      "text/plain": [
       "17"
      ]
     },
     "execution_count": 17,
     "metadata": {},
     "output_type": "execute_result"
    }
   ],
   "source": [
    "# This expression multiplies then adds integers\n",
    "(3*4)+5\n"
   ]
  },
  {
   "cell_type": "code",
   "execution_count": 18,
   "id": "09d36b78-fa8d-418d-8519-f7678e1ff36c",
   "metadata": {},
   "outputs": [
    {
     "name": "stdout",
     "output_type": "stream",
     "text": [
      "200  minutes is equivalent to 3  hours and  20  minutes\n"
     ]
    }
   ],
   "source": [
    "# This will convert 200 minutes to hours by dividing by 60\n",
    "minutes = 200\n",
    "hours = minutes//60\n",
    "remMin = minutes - (hours * 60)\n",
    "\n",
    "print(minutes,\" minutes is equivalent to\", hours, \" hours and \", remMin, \" minutes\")\n"
   ]
  },
  {
   "cell_type": "markdown",
   "id": "d3f0e319-59a9-4c7e-bdfc-9dada8831540",
   "metadata": {},
   "source": [
    "##### **Objectives:**\n",
    "+ Identify popular Data Science languages, libraries, and tools.\n",
    "+ Create tables in markdown cells.\n",
    "+ Evaluate arithmetic expressions in code cells.\n"
   ]
  },
  {
   "cell_type": "markdown",
   "id": "fb28b940-4ff1-4502-ae93-7ead5ea6930c",
   "metadata": {},
   "source": [
    "## Author\n",
    "Ana Acosta, future Data Scientist"
   ]
  },
  {
   "cell_type": "code",
   "execution_count": null,
   "id": "072df9cf-4626-44f1-a645-99079ac44bdb",
   "metadata": {},
   "outputs": [],
   "source": []
  }
 ],
 "metadata": {
  "kernelspec": {
   "display_name": "Python 3 (ipykernel)",
   "language": "python",
   "name": "python3"
  },
  "language_info": {
   "codemirror_mode": {
    "name": "ipython",
    "version": 3
   },
   "file_extension": ".py",
   "mimetype": "text/x-python",
   "name": "python",
   "nbconvert_exporter": "python",
   "pygments_lexer": "ipython3",
   "version": "3.13.5"
  }
 },
 "nbformat": 4,
 "nbformat_minor": 5
}
